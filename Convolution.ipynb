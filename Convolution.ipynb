{
 "cells": [
  {
   "cell_type": "markdown",
   "id": "e8ac816f",
   "metadata": {},
   "source": [
    "# Convolution"
   ]
  },
  {
   "cell_type": "code",
   "execution_count": 201,
   "id": "802e27e0",
   "metadata": {},
   "outputs": [],
   "source": [
    "# %timeit -n3 test()\n",
    "\n",
    "import matplotlib.pyplot as plt\n",
    "%matplotlib inline\n",
    "import pandas as pd\n",
    "import numpy as np\n",
    "import math\n",
    "import glob\n",
    "import cv2\n",
    "import os\n",
    "path = '/Users/tae/Desktop/Project/image/*'\n",
    "path_export = '/Users/tae/Desktop/Project/Dataset/unnormalize/Convolution48.xlsx'\n",
    "\n",
    "\n",
    "size_columns = 48"
   ]
  },
  {
   "cell_type": "code",
   "execution_count": 195,
   "id": "9462edc9",
   "metadata": {},
   "outputs": [],
   "source": [
    "def read_file():\n",
    "\n",
    "    img_gray = []\n",
    "    for i in sorted(glob.glob(path+'/*')):\n",
    "\n",
    "        img = plt.imread(i)\n",
    "        img = cv2.fastNlMeansDenoisingColored(img , None, 20,6,7,21)\n",
    "\n",
    "        gray = cv2.cvtColor(img , cv2.COLOR_RGB2GRAY)\n",
    "\n",
    "        img_gray.append((gray))\n",
    "        \n",
    "    return img_gray"
   ]
  },
  {
   "cell_type": "code",
   "execution_count": 202,
   "id": "fc55db86",
   "metadata": {},
   "outputs": [],
   "source": [
    "def convolution(image):\n",
    "    \n",
    "    window = 3\n",
    "    max_width = 72\n",
    "\n",
    "    while image.shape[1] >= max_width:\n",
    "        \n",
    "        new_height = math.floor(image.shape[0] / 3)\n",
    "        new_width  = math.floor(image.shape[1] / 3) \n",
    "        \n",
    "        if new_width < max_width:\n",
    "            break\n",
    "            \n",
    "        new_image  = np.zeros((new_height, new_width))\n",
    "       \n",
    "        for i in range(new_height):\n",
    "            \n",
    "            for j in range(new_width):\n",
    "                s_height =  i * window\n",
    "                e_height = (i + 1) * window\n",
    "                s_width =   j * window\n",
    "                e_width =  (j * window) + window\n",
    "                \n",
    "                value = image[s_height:e_height , s_width:e_width]\n",
    "                new_image[i,j] = np.average(value)\n",
    "                \n",
    "        image = new_image\n",
    "\n",
    "\n",
    "    \n",
    "    \n",
    "    # Extract Dataset\n",
    "    feature = extract_dataset(image)\n",
    "        \n",
    "          \n",
    "    return feature"
   ]
  },
  {
   "cell_type": "code",
   "execution_count": 203,
   "id": "0c5ec1ea",
   "metadata": {},
   "outputs": [],
   "source": [
    "def extract_dataset(image):\n",
    "    \n",
    "    end_loop = 24\n",
    "    \n",
    "    height , width = image.shape\n",
    "    window_width = 3\n",
    "    new_h = math.floor(height / 2 )\n",
    "    \n",
    "    averages1 = []\n",
    "    averages2 = []\n",
    "\n",
    "    for i in range(end_loop):\n",
    " \n",
    "        start = i * window_width\n",
    "        end = (i+1) * window_width\n",
    "        \n",
    "        if i == end_loop-1: end = None\n",
    "\n",
    "        avg1 = np.average(image[:new_h , start:end])\n",
    "        avg2 =  np.average(image[new_h: , start:end])\n",
    "        \n",
    "        averages1.append(avg1) \n",
    "        averages2.append(avg2) \n",
    "        \n",
    "    return np.concatenate((np.round(averages1,3),np.round(averages2,3)))"
   ]
  },
  {
   "cell_type": "code",
   "execution_count": 204,
   "id": "491a7529",
   "metadata": {},
   "outputs": [],
   "source": [
    "def write_excel(file):\n",
    "    \n",
    "    print(len(file))\n",
    "    class1 = 423\n",
    "    class2 = 1180\n",
    "    class3 = 1383\n",
    "    class4 = 1076\n",
    "\n",
    "    range1 = class1\n",
    "    range2 = class1+class2\n",
    "    range3 = class1+class2+class3\n",
    "    range4 = class1+class2+class3+class4\n",
    "    \n",
    "    cl = [f'x{i}' for i in range(1,size_columns + 1)]\n",
    "    df = pd.DataFrame(file , columns=cl , index=None )\n",
    "    df['class'] = None\n",
    "    \n",
    "\n",
    "\n",
    "    df.iloc[:range1 , size_columns:size_columns+1] = 1\n",
    "    df.iloc[range1:range2 , -1] = 2\n",
    "    df.iloc[range2:range3 , -1] = 3\n",
    "    df.iloc[range3:, -1]= 4\n",
    "        \n",
    "\n",
    "    df.to_excel(path_export , index= False)\n",
    " \n",
    "    \n",
    "    return print(\"Export success\")  , df.head()\n",
    "    "
   ]
  },
  {
   "cell_type": "markdown",
   "id": "f738902a",
   "metadata": {},
   "source": [
    "# Main"
   ]
  },
  {
   "cell_type": "code",
   "execution_count": 154,
   "id": "8ed80dd3",
   "metadata": {},
   "outputs": [],
   "source": [
    "file = read_file()\n",
    "    \n"
   ]
  },
  {
   "cell_type": "code",
   "execution_count": 205,
   "id": "55e7c46d",
   "metadata": {},
   "outputs": [],
   "source": [
    "feature = []"
   ]
  },
  {
   "cell_type": "code",
   "execution_count": 206,
   "id": "793de5ee",
   "metadata": {},
   "outputs": [
    {
     "name": "stdout",
     "output_type": "stream",
     "text": [
      "4062\n",
      "Export success\n"
     ]
    },
    {
     "data": {
      "text/plain": [
       "(None,\n",
       "         x1       x2       x3       x4       x5       x6       x7       x8  \\\n",
       " 0  205.348  203.367  195.141  181.191  169.372  164.448  160.882  155.908   \n",
       " 1  191.247  187.154  175.069  151.521  148.416  154.377  154.279  152.877   \n",
       " 2  216.976  191.901  171.400  162.439  152.321  141.698  141.556  145.325   \n",
       " 3  182.099  182.512  173.251  162.097  159.952  160.896  165.607  152.375   \n",
       " 4  171.207  144.949  136.339  138.286  138.384  138.550  137.526  131.575   \n",
       " \n",
       "         x9      x10  ...      x40      x41      x42      x43      x44  \\\n",
       " 0  148.813  139.929  ...  137.655  137.663  139.997  140.866  139.079   \n",
       " 1  150.369  146.639  ...  122.388  122.080  123.580  123.599  122.739   \n",
       " 2  149.187  154.259  ...  149.052  149.795  143.657  128.807  115.526   \n",
       " 3  134.160  129.818  ...  133.236  132.633  120.151  114.137  112.971   \n",
       " 4  130.637  127.136  ...  133.429  122.666  113.603  108.698  107.051   \n",
       " \n",
       "        x45      x46      x47      x48  class  \n",
       " 0  142.162  147.265  146.339  167.248      1  \n",
       " 1  112.583  108.492  114.213  136.292      1  \n",
       " 2  119.083  149.966  172.429  191.778      1  \n",
       " 3  110.121  107.330  108.893  137.658      1  \n",
       " 4  107.603  110.157  116.793  152.549      1  \n",
       " \n",
       " [5 rows x 49 columns])"
      ]
     },
     "execution_count": 206,
     "metadata": {},
     "output_type": "execute_result"
    }
   ],
   "source": [
    "for i in file:\n",
    "    feature.append(convolution(i))\n",
    "write_excel(feature)"
   ]
  }
 ],
 "metadata": {
  "kernelspec": {
   "display_name": "Python 3 (ipykernel)",
   "language": "python",
   "name": "python3"
  },
  "language_info": {
   "codemirror_mode": {
    "name": "ipython",
    "version": 3
   },
   "file_extension": ".py",
   "mimetype": "text/x-python",
   "name": "python",
   "nbconvert_exporter": "python",
   "pygments_lexer": "ipython3",
   "version": "3.11.5"
  }
 },
 "nbformat": 4,
 "nbformat_minor": 5
}
