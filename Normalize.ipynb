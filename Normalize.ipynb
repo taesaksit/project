{
 "cells": [
  {
   "cell_type": "markdown",
   "id": "257d4f5d",
   "metadata": {},
   "source": [
    "# Normalize with lib"
   ]
  },
  {
   "cell_type": "code",
   "execution_count": 25,
   "id": "94bdcc0a",
   "metadata": {},
   "outputs": [],
   "source": [
    "import numpy as np\n",
    "import pandas as pd\n",
    "from sklearn import preprocessing\n",
    "\n",
    "\n",
    "\n",
    "    "
   ]
  },
  {
   "cell_type": "code",
   "execution_count": 39,
   "id": "9fd13184",
   "metadata": {},
   "outputs": [],
   "source": [
    "path = '/Users/tae/Desktop/Project/Dataset/unnormalize/Convolution500.xlsx'\n",
    "path_save = '/Users/tae/Desktop/Project/Dataset/normalize/Normalize500.xlsx'\n",
    "\n",
    "\n"
   ]
  },
  {
   "cell_type": "code",
   "execution_count": 35,
   "id": "9a2b8516",
   "metadata": {},
   "outputs": [],
   "source": [
    "def normalize():\n",
    "\n",
    "    #Preporcess\n",
    "\n",
    "    df = pd.read_excel(path)    \n",
    "    df_c = df['class']\n",
    "    df = df.drop(columns='class')\n",
    "    \n",
    "    #model \n",
    "    model = preprocessing.MinMaxScaler()\n",
    "    df_scaled = model.fit_transform(df)\n",
    "    \n",
    "    #Create DataFrame\n",
    "    new_df = pd.DataFrame(df_scaled , columns=df.columns)\n",
    "    new_df['class'] = df_c\n",
    "    \n",
    "    #Export \n",
    "    new_df.to_excel(path_save,index=False)\n",
    "    \n",
    "    return 'Export Success'\n"
   ]
  },
  {
   "cell_type": "code",
   "execution_count": 40,
   "id": "5998e832",
   "metadata": {},
   "outputs": [
    {
     "data": {
      "text/plain": [
       "'Export Success'"
      ]
     },
     "execution_count": 40,
     "metadata": {},
     "output_type": "execute_result"
    }
   ],
   "source": [
    "normalize()"
   ]
  },
  {
   "cell_type": "code",
   "execution_count": null,
   "id": "370cb0cf",
   "metadata": {},
   "outputs": [],
   "source": []
  }
 ],
 "metadata": {
  "kernelspec": {
   "display_name": "Python 3 (ipykernel)",
   "language": "python",
   "name": "python3"
  },
  "language_info": {
   "codemirror_mode": {
    "name": "ipython",
    "version": 3
   },
   "file_extension": ".py",
   "mimetype": "text/x-python",
   "name": "python",
   "nbconvert_exporter": "python",
   "pygments_lexer": "ipython3",
   "version": "3.11.5"
  }
 },
 "nbformat": 4,
 "nbformat_minor": 5
}
