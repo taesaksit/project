{
 "cells": [
  {
   "cell_type": "markdown",
   "id": "4b510fa2",
   "metadata": {},
   "source": [
    "# Covolution, Read, Write "
   ]
  },
  {
   "cell_type": "code",
   "execution_count": 75,
   "id": "c54269d2",
   "metadata": {},
   "outputs": [
    {
     "ename": "AttributeError",
     "evalue": "module 'numpy' has no attribute 'set_printoption'",
     "output_type": "error",
     "traceback": [
      "\u001b[0;31m---------------------------------------------------------------------------\u001b[0m",
      "\u001b[0;31mAttributeError\u001b[0m                            Traceback (most recent call last)",
      "Cell \u001b[0;32mIn[75], line 10\u001b[0m\n\u001b[1;32m      7\u001b[0m \u001b[38;5;28;01mimport\u001b[39;00m \u001b[38;5;21;01mpandas\u001b[39;00m \u001b[38;5;28;01mas\u001b[39;00m \u001b[38;5;21;01mpd\u001b[39;00m\n\u001b[1;32m      8\u001b[0m \u001b[38;5;28;01mimport\u001b[39;00m \u001b[38;5;21;01mmatplotlib\u001b[39;00m\u001b[38;5;21;01m.\u001b[39;00m\u001b[38;5;21;01mpyplot\u001b[39;00m \u001b[38;5;28;01mas\u001b[39;00m \u001b[38;5;21;01mplt\u001b[39;00m\n\u001b[0;32m---> 10\u001b[0m np\u001b[38;5;241m.\u001b[39mset_printoption(suppress \u001b[38;5;241m=\u001b[39m \u001b[38;5;28;01mTrue\u001b[39;00m)\n",
      "File \u001b[0;32m~/anaconda3/lib/python3.11/site-packages/numpy/__init__.py:320\u001b[0m, in \u001b[0;36m__getattr__\u001b[0;34m(attr)\u001b[0m\n\u001b[1;32m    317\u001b[0m     \u001b[38;5;28;01mfrom\u001b[39;00m \u001b[38;5;21;01m.\u001b[39;00m\u001b[38;5;21;01mtesting\u001b[39;00m \u001b[38;5;28;01mimport\u001b[39;00m Tester\n\u001b[1;32m    318\u001b[0m     \u001b[38;5;28;01mreturn\u001b[39;00m Tester\n\u001b[0;32m--> 320\u001b[0m \u001b[38;5;28;01mraise\u001b[39;00m \u001b[38;5;167;01mAttributeError\u001b[39;00m(\u001b[38;5;124m\"\u001b[39m\u001b[38;5;124mmodule \u001b[39m\u001b[38;5;132;01m{!r}\u001b[39;00m\u001b[38;5;124m has no attribute \u001b[39m\u001b[38;5;124m\"\u001b[39m\n\u001b[1;32m    321\u001b[0m                      \u001b[38;5;124m\"\u001b[39m\u001b[38;5;132;01m{!r}\u001b[39;00m\u001b[38;5;124m\"\u001b[39m\u001b[38;5;241m.\u001b[39mformat(\u001b[38;5;18m__name__\u001b[39m, attr))\n",
      "\u001b[0;31mAttributeError\u001b[0m: module 'numpy' has no attribute 'set_printoption'"
     ]
    }
   ],
   "source": [
    "import os\n",
    "import cv2\n",
    "import glob\n",
    "import math\n",
    "import time\n",
    "import numpy as np\n",
    "import pandas as pd\n",
    "import matplotlib.pyplot as plt\n",
    "\n",
    "np.set_printoption(suppress = True)\n"
   ]
  },
  {
   "cell_type": "code",
   "execution_count": 50,
   "id": "3990ee06",
   "metadata": {},
   "outputs": [],
   "source": [
    "\n",
    "# def convolution2(image):\n",
    "    \n",
    "#     stride = 3\n",
    "\n",
    "#     while image.shape[1] >= 36:\n",
    "        \n",
    "#         height_n = math.floor(image.shape[0] / 3)\n",
    "#         width_n = math.floor(image.shape[1] / 3) \n",
    "#         new_image = np.zeros((height_n, width_n))\n",
    "       \n",
    "#         for i in range(0, height_n * stride, stride):\n",
    "#             k = []\n",
    "#             for j in range(0, width_n * stride, stride):\n",
    "#                 arr2 = arr1[i:i + stride, j:j + stride]\n",
    "#                 value = np.average(arr2)\n",
    "#                 new_image[i // stride, j // stride] = value\n",
    "#                 k.append(value)\n",
    "#         arr1 = new_image\n",
    "\n",
    "\n",
    "#     # -> แบ่ง Data set <- #\n",
    "    \n",
    "#     h , w = arr1.shape\n",
    "#     window_width = math.floor( w / 6)\n",
    "#     new_h = math.floor(h / 2 )\n",
    "    \n",
    "#     averages1 = []\n",
    "#     averages2 = []\n",
    "\n",
    "#     for i in range(6):\n",
    " \n",
    "#         start = i * window_width\n",
    "#         if i ==5:\n",
    "#             end = None\n",
    "#         else:\n",
    "#             end = (i+1) * window_width\n",
    "        \n",
    "#         avg1 = np.average(arr1[:new_h , start:end])\n",
    "#         avg2 =  np.average(arr1[new_h: , start:end])\n",
    "        \n",
    "#         averages1.append(avg1) \n",
    "#         averages2.append(avg2) \n",
    "        \n",
    "          \n",
    "#     return np.concatenate((np.round(averages1,3),np.round(averages2,3)))\n"
   ]
  },
  {
   "cell_type": "code",
   "execution_count": 62,
   "id": "11ec8406",
   "metadata": {},
   "outputs": [],
   "source": [
    "\n",
    "def convolution2(image):\n",
    "    \n",
    "    window = 3\n",
    "\n",
    "    while image.shape[1] >= 36:\n",
    "        \n",
    "        new_height = math.floor(image.shape[0] / 3)\n",
    "        new_width  = math.floor(image.shape[1] / 3) \n",
    "        new_image  = np.zeros( ( new_height, new_width))\n",
    "       \n",
    "        for i in range(new_height):\n",
    "            \n",
    "            for j in range(new_width):\n",
    "                s_height =  i * window\n",
    "                e_height = (i + 1) * window\n",
    "                s_width =   j * window\n",
    "                e_width =  (j * window) + window\n",
    "                \n",
    "                value = image[s_height:e_height , s_width:e_width]\n",
    "                new_image[i,j] = np.average(value)\n",
    "                \n",
    "        image = new_image\n",
    "\n",
    "\n",
    "    \n",
    "    \n",
    "    # Add function Extract Data set\n",
    "    feature = extract_dataset(image)\n",
    "        \n",
    "          \n",
    "    return feature"
   ]
  },
  {
   "cell_type": "code",
   "execution_count": 65,
   "id": "945d60b5",
   "metadata": {},
   "outputs": [],
   "source": [
    "def extract_dataset(image):\n",
    "    \n",
    "    height , width = image.shape\n",
    "    window_width = math.floor( width / 6)\n",
    "    new_h = math.floor(height / 2 )\n",
    "    \n",
    "    averages1 = []\n",
    "    averages2 = []\n",
    "\n",
    "    for i in range(6):\n",
    " \n",
    "        start = i * window_width\n",
    "        end = (i+1) * window_width\n",
    "        \n",
    "        if i == 5: end = None\n",
    "\n",
    "        avg1 = np.average(image[:new_h , start:end])\n",
    "        avg2 =  np.average(image[new_h: , start:end])\n",
    "        \n",
    "        averages1.append(avg1) \n",
    "        averages2.append(avg2) \n",
    "        \n",
    "    return np.concatenate((np.round(averages1,3),np.round(averages2,3)))"
   ]
  },
  {
   "cell_type": "code",
   "execution_count": 64,
   "id": "3be5858d",
   "metadata": {},
   "outputs": [],
   "source": [
    "\n",
    "def read_namefile():\n",
    "    \n",
    "    pathImage = '/Users/tae/Desktop/Project/image/*'\n",
    "    image_paths = glob.glob(pathImage)\n",
    "    filename = []\n",
    "    for path in image_paths:\n",
    "        name = os.path.basename(path)\n",
    "        filename.append(name)\n",
    "        \n",
    "    filename.sort()\n",
    "    \n",
    "    return filename\n"
   ]
  },
  {
   "cell_type": "code",
   "execution_count": 22,
   "id": "7345e3a8",
   "metadata": {},
   "outputs": [],
   "source": [
    "def read_file():\n",
    "    \n",
    "    total_file = 4\n",
    "    c_image_file = np.empty(4 , dtype='object')    \n",
    "    pathImage = '/Users/tae/Desktop/Project/image/*'\n",
    "    all_file = glob.glob(pathImage)\n",
    "    all_file.sort()\n",
    "    \n",
    "    \n",
    "    for i in range(len(all_file)):\n",
    "        c_image_file[i] = glob.glob(all_file[i]+'/*')\n",
    "        \n",
    "        \n",
    "    \n",
    "    \n",
    "    return c_image_file"
   ]
  },
  {
   "cell_type": "code",
   "execution_count": 27,
   "id": "544afcb4",
   "metadata": {},
   "outputs": [],
   "source": [
    "def convert_rgb_gray(img):\n",
    "\n",
    "    return  cv2.cvtColor(plt.imread(img) , cv2.COLOR_BGR2GRAY)"
   ]
  },
  {
   "cell_type": "code",
   "execution_count": 69,
   "id": "a5168ee5",
   "metadata": {},
   "outputs": [],
   "source": [
    "def write_excel(feature , class_num , file_name):\n",
    "    \n",
    "    \n",
    "    path = '/Users/tae/Desktop/Project/Dataset/'+file_name+'.xlsx'\n",
    "    column_names = ['x1', 'x2', 'x3','x4','x5','x6','x7','x8','x9','x10','x11','x12']\n",
    "    df = pd.DataFrame(feature , columns=column_names)\n",
    "    df['class']= class_num\n",
    "\n",
    "    df.to_excel(path, index=False)\n",
    "    \n",
    "    \n",
    "   \n",
    "\n"
   ]
  },
  {
   "cell_type": "code",
   "execution_count": 57,
   "id": "f7bdfe8c",
   "metadata": {},
   "outputs": [],
   "source": [
    "def execute_main():\n",
    "    \n",
    "    file_name = read_namefile()\n",
    "    c_image_file = read_file()\n",
    "    \n",
    "    \n",
    "    for i in range(len(c_image_file)):\n",
    "        \n",
    "        feature = []\n",
    "       \n",
    "        \n",
    "        for j in range(len(c_image_file[i])):\n",
    "            \n",
    "            img_gray = convert_rgb_gray(c_image_file[i][j])\n",
    "            feature.append(convolution2(img_gray)) \n",
    "        \n",
    "        write_excel(feature , i+1 , file_name[i])\n",
    "        \n",
    "        \n",
    "    return print('Complete')"
   ]
  },
  {
   "cell_type": "code",
   "execution_count": 70,
   "id": "b938a877",
   "metadata": {},
   "outputs": [
    {
     "name": "stdout",
     "output_type": "stream",
     "text": [
      "Complete\n",
      "Time taken =  9.5367431640625e-07\n"
     ]
    }
   ],
   "source": [
    "if __name__ == '__main__':\n",
    "    execute_main()\n",
    "    start_time = time.time()\n",
    "    print('Time taken = ',  time.time() - start_time )"
   ]
  },
  {
   "cell_type": "code",
   "execution_count": null,
   "id": "8e5fee6d",
   "metadata": {},
   "outputs": [],
   "source": []
  }
 ],
 "metadata": {
  "kernelspec": {
   "display_name": "Python 3 (ipykernel)",
   "language": "python",
   "name": "python3"
  },
  "language_info": {
   "codemirror_mode": {
    "name": "ipython",
    "version": 3
   },
   "file_extension": ".py",
   "mimetype": "text/x-python",
   "name": "python",
   "nbconvert_exporter": "python",
   "pygments_lexer": "ipython3",
   "version": "3.11.5"
  }
 },
 "nbformat": 4,
 "nbformat_minor": 5
}
