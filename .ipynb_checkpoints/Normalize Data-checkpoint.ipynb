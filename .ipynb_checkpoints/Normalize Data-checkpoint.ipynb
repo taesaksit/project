{
 "cells": [
  {
   "cell_type": "markdown",
   "id": "95ab623d",
   "metadata": {},
   "source": [
    "# Normalize data"
   ]
  },
  {
   "cell_type": "code",
   "execution_count": 17,
   "id": "6be80dc7",
   "metadata": {},
   "outputs": [],
   "source": [
    "import os\n",
    "import glob\n",
    "import math\n",
    "import time\n",
    "import pandas as pd\n",
    "\n",
    "\n"
   ]
  },
  {
   "cell_type": "code",
   "execution_count": 18,
   "id": "9e2586b3",
   "metadata": {},
   "outputs": [],
   "source": [
    "def read_file():\n",
    "    \n",
    "    path = '/Users/tae/Desktop/Project/Dataset/unnormalize/max/d48/*'\n",
    "    allFile = glob.glob(path)\n",
    "    allFile.sort()\n",
    "    \n",
    "    data = []\n",
    "    \n",
    "    for i in range(len(allFile)):\n",
    "        df = pd.read_excel(allFile[i])\n",
    "        data.append(df)\n",
    "\n",
    "    \n",
    "    return data"
   ]
  },
  {
   "cell_type": "code",
   "execution_count": 19,
   "id": "d136844b",
   "metadata": {},
   "outputs": [],
   "source": [
    "def combine_data(data):\n",
    "    \n",
    "    return pd.concat(data)\n"
   ]
  },
  {
   "cell_type": "code",
   "execution_count": 20,
   "id": "d47745ce",
   "metadata": {},
   "outputs": [],
   "source": [
    "def write_file(file):\n",
    "    path = '/Users/tae/Desktop/Project/Dataset/Normalize48_max.xlsx'\n",
    "    file.to_excel(path , index=False)\n",
    "    \n",
    "    return print(\"Export File success\")\n",
    "    "
   ]
  },
  {
   "cell_type": "code",
   "execution_count": 21,
   "id": "cb18ded3",
   "metadata": {},
   "outputs": [],
   "source": [
    "def normalize_data(data):\n",
    "    \n",
    "    data_class = data['class']\n",
    "    result = (data.iloc[:,:-1] - data.iloc[:,:-1].min()) / (data.iloc[:,:-1].max() - data.iloc[:,:-1].min())\n",
    "    result['class'] = data_class\n",
    "    \n",
    "    write_file(result)\n",
    "    \n",
    "    \n",
    "    return  result\n",
    "    \n",
    "    \n",
    "    "
   ]
  },
  {
   "cell_type": "code",
   "execution_count": 22,
   "id": "89c3e836",
   "metadata": {},
   "outputs": [
    {
     "name": "stdout",
     "output_type": "stream",
     "text": [
      "Export File success\n"
     ]
    }
   ],
   "source": [
    "data = read_file()\n",
    "data_combine = combine_data(data)\n",
    "result = normalize_data(data_combine)\n",
    "\n",
    "\n",
    "\n"
   ]
  },
  {
   "cell_type": "code",
   "execution_count": 121,
   "id": "e1f7d583",
   "metadata": {},
   "outputs": [
    {
     "data": {
      "text/html": [
       "<div>\n",
       "<style scoped>\n",
       "    .dataframe tbody tr th:only-of-type {\n",
       "        vertical-align: middle;\n",
       "    }\n",
       "\n",
       "    .dataframe tbody tr th {\n",
       "        vertical-align: top;\n",
       "    }\n",
       "\n",
       "    .dataframe thead th {\n",
       "        text-align: right;\n",
       "    }\n",
       "</style>\n",
       "<table border=\"1\" class=\"dataframe\">\n",
       "  <thead>\n",
       "    <tr style=\"text-align: right;\">\n",
       "      <th></th>\n",
       "      <th>x1</th>\n",
       "      <th>x2</th>\n",
       "      <th>x3</th>\n",
       "      <th>x4</th>\n",
       "      <th>x5</th>\n",
       "      <th>x6</th>\n",
       "      <th>class</th>\n",
       "    </tr>\n",
       "  </thead>\n",
       "  <tbody>\n",
       "    <tr>\n",
       "      <th>0</th>\n",
       "      <td>147.276</td>\n",
       "      <td>98.530</td>\n",
       "      <td>105.150</td>\n",
       "      <td>120.742</td>\n",
       "      <td>93.573</td>\n",
       "      <td>84.234</td>\n",
       "      <td>4</td>\n",
       "    </tr>\n",
       "    <tr>\n",
       "      <th>1</th>\n",
       "      <td>131.152</td>\n",
       "      <td>118.084</td>\n",
       "      <td>156.215</td>\n",
       "      <td>109.668</td>\n",
       "      <td>103.249</td>\n",
       "      <td>120.136</td>\n",
       "      <td>4</td>\n",
       "    </tr>\n",
       "    <tr>\n",
       "      <th>2</th>\n",
       "      <td>138.884</td>\n",
       "      <td>101.761</td>\n",
       "      <td>158.436</td>\n",
       "      <td>88.303</td>\n",
       "      <td>109.738</td>\n",
       "      <td>114.016</td>\n",
       "      <td>4</td>\n",
       "    </tr>\n",
       "    <tr>\n",
       "      <th>3</th>\n",
       "      <td>115.042</td>\n",
       "      <td>117.418</td>\n",
       "      <td>120.648</td>\n",
       "      <td>103.856</td>\n",
       "      <td>124.776</td>\n",
       "      <td>104.676</td>\n",
       "      <td>4</td>\n",
       "    </tr>\n",
       "    <tr>\n",
       "      <th>4</th>\n",
       "      <td>117.487</td>\n",
       "      <td>103.862</td>\n",
       "      <td>95.182</td>\n",
       "      <td>109.266</td>\n",
       "      <td>99.260</td>\n",
       "      <td>101.641</td>\n",
       "      <td>4</td>\n",
       "    </tr>\n",
       "  </tbody>\n",
       "</table>\n",
       "</div>"
      ],
      "text/plain": [
       "        x1       x2       x3       x4       x5       x6  class\n",
       "0  147.276   98.530  105.150  120.742   93.573   84.234      4\n",
       "1  131.152  118.084  156.215  109.668  103.249  120.136      4\n",
       "2  138.884  101.761  158.436   88.303  109.738  114.016      4\n",
       "3  115.042  117.418  120.648  103.856  124.776  104.676      4\n",
       "4  117.487  103.862   95.182  109.266   99.260  101.641      4"
      ]
     },
     "execution_count": 121,
     "metadata": {},
     "output_type": "execute_result"
    }
   ],
   "source": []
  }
 ],
 "metadata": {
  "kernelspec": {
   "display_name": "Python 3 (ipykernel)",
   "language": "python",
   "name": "python3"
  },
  "language_info": {
   "codemirror_mode": {
    "name": "ipython",
    "version": 3
   },
   "file_extension": ".py",
   "mimetype": "text/x-python",
   "name": "python",
   "nbconvert_exporter": "python",
   "pygments_lexer": "ipython3",
   "version": "3.11.5"
  }
 },
 "nbformat": 4,
 "nbformat_minor": 5
}
