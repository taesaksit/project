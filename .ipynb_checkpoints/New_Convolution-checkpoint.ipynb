{
 "cells": [
  {
   "cell_type": "markdown",
   "id": "e8ac816f",
   "metadata": {},
   "source": [
    "# Convolution"
   ]
  },
  {
   "cell_type": "code",
   "execution_count": 282,
   "id": "802e27e0",
   "metadata": {},
   "outputs": [],
   "source": [
    "# %timeit -n3 test()\n",
    "\n",
    "import matplotlib.pyplot as plt\n",
    "%matplotlib inline\n",
    "import pandas as pd\n",
    "import numpy as np\n",
    "import math\n",
    "import glob\n",
    "import cv2\n",
    "import os\n",
    "path = '/Users/tae/Desktop/Project/image/*'\n",
    "path_export = '/Users/tae/Desktop/Project/Dataset/unnormalize/'\n",
    "\n",
    "\n",
    "size_columns = 6"
   ]
  },
  {
   "cell_type": "code",
   "execution_count": 8,
   "id": "64ad6b4e",
   "metadata": {},
   "outputs": [],
   "source": []
  },
  {
   "cell_type": "code",
   "execution_count": 180,
   "id": "9462edc9",
   "metadata": {},
   "outputs": [],
   "source": [
    "def read_file():\n",
    "    \n",
    "    img_gray = []\n",
    "    for i in glob.glob(path+'/*'):\n",
    "        img = plt.imread(i)\n",
    "        gray = cv2.cvtColor(img , cv2.COLOR_RGB2GRAY)\n",
    "\n",
    "        img_gray.append((gray))\n",
    "        \n",
    "    return img_gray"
   ]
  },
  {
   "cell_type": "code",
   "execution_count": 283,
   "id": "fc55db86",
   "metadata": {},
   "outputs": [],
   "source": [
    "def convolution(image):\n",
    "    \n",
    "    window = 3\n",
    "    max_width = 9\n",
    "\n",
    "    while image.shape[1] >= max_width:\n",
    "        \n",
    "        new_height = math.floor(image.shape[0] / 3)\n",
    "        new_width  = math.floor(image.shape[1] / 3) \n",
    "        \n",
    "        if new_width < max_width:\n",
    "            break\n",
    "            \n",
    "        new_image  = np.zeros((new_height, new_width))\n",
    "       \n",
    "        for i in range(new_height):\n",
    "            \n",
    "            for j in range(new_width):\n",
    "                s_height =  i * window\n",
    "                e_height = (i + 1) * window\n",
    "                s_width =   j * window\n",
    "                e_width =  (j * window) + window\n",
    "                \n",
    "                value = image[s_height:e_height , s_width:e_width]\n",
    "                new_image[i,j] = np.average(value)\n",
    "                \n",
    "        image = new_image\n",
    "\n",
    "\n",
    "    \n",
    "    \n",
    "    # Extract Dataset\n",
    "    feature = extract_dataset(image)\n",
    "        \n",
    "          \n",
    "    return feature"
   ]
  },
  {
   "cell_type": "code",
   "execution_count": 284,
   "id": "0c5ec1ea",
   "metadata": {},
   "outputs": [],
   "source": [
    "def extract_dataset(image):\n",
    "    \n",
    "    end_loop = 3\n",
    "    \n",
    "    height , width = image.shape\n",
    "    window_width = 3\n",
    "    new_h = math.floor(height / 2 )\n",
    "    \n",
    "    averages1 = []\n",
    "    averages2 = []\n",
    "\n",
    "    for i in range(end_loop):\n",
    " \n",
    "        start = i * window_width\n",
    "        end = (i+1) * window_width\n",
    "        \n",
    "        if i == end_loop-1: end = None\n",
    "\n",
    "        avg1 = np.average(image[:new_h , start:end])\n",
    "        avg2 =  np.average(image[new_h: , start:end])\n",
    "        \n",
    "        averages1.append(avg1) \n",
    "        averages2.append(avg2) \n",
    "        \n",
    "    return np.concatenate((np.round(averages1,3),np.round(averages2,3)))"
   ]
  },
  {
   "cell_type": "code",
   "execution_count": 285,
   "id": "491a7529",
   "metadata": {},
   "outputs": [],
   "source": [
    "def write_excel(file):\n",
    "    \n",
    "    print(len(file))\n",
    "    class1 = 423\n",
    "    class2 = 1180\n",
    "    class3 = 1383\n",
    "    class4 = 1076\n",
    "\n",
    "    range1 = class1\n",
    "    range2 = class1+class2\n",
    "    range3 = class1+class2+class3\n",
    "    range4 = class1+class2+class3+class4\n",
    "    \n",
    "    cl = [f'x{i}' for i in range(1,size_columns + 1)]\n",
    "    df = pd.DataFrame(file , columns=cl , index=None )\n",
    "    df['class'] = None\n",
    "    \n",
    "\n",
    "\n",
    "    df.iloc[:range1 , size_columns:size_columns+1] = 1\n",
    "    df.iloc[range1:range2 , -1] = 2\n",
    "    df.iloc[range2:range3 , -1] = 3\n",
    "    df.iloc[range3:, -1]= 4\n",
    "        \n",
    "\n",
    "    df.to_excel(path_export , index= False)\n",
    " \n",
    "    \n",
    "    return print(\"Export success\")  , df.head()\n",
    "    "
   ]
  },
  {
   "cell_type": "markdown",
   "id": "f738902a",
   "metadata": {},
   "source": [
    "# Main"
   ]
  },
  {
   "cell_type": "code",
   "execution_count": 286,
   "id": "ac880041",
   "metadata": {},
   "outputs": [
    {
     "name": "stdout",
     "output_type": "stream",
     "text": [
      "4062\n",
      "Export success\n"
     ]
    },
    {
     "data": {
      "text/plain": [
       "(None,\n",
       "         x1       x2       x3       x4       x5       x6 class\n",
       " 0  146.575  126.676  122.578  155.278  129.606  109.738     1\n",
       " 1  128.075   91.568   94.860  118.693  103.536   95.406     1\n",
       " 2  108.375  126.367  163.594  122.174  129.801  139.643     1\n",
       " 3  159.588  127.846  142.540  111.177  114.064  104.326     1\n",
       " 4   85.385   71.923  122.140   42.829   40.029   90.024     1)"
      ]
     },
     "execution_count": 286,
     "metadata": {},
     "output_type": "execute_result"
    }
   ],
   "source": [
    "img_gray = []\n",
    "\n",
    "#1 Read allfile\n",
    "all_gray = read_file()\n",
    "#2 Convolution\n",
    "for i in all_gray:\n",
    "    img_gray.append(convolution(i))\n",
    "\n",
    "#3 Export excel\n",
    "write_excel(img_gray)\n",
    "\n",
    "    "
   ]
  }
 ],
 "metadata": {
  "kernelspec": {
   "display_name": "Python 3 (ipykernel)",
   "language": "python",
   "name": "python3"
  },
  "language_info": {
   "codemirror_mode": {
    "name": "ipython",
    "version": 3
   },
   "file_extension": ".py",
   "mimetype": "text/x-python",
   "name": "python",
   "nbconvert_exporter": "python",
   "pygments_lexer": "ipython3",
   "version": "3.11.5"
  }
 },
 "nbformat": 4,
 "nbformat_minor": 5
}
