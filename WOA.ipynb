{
 "cells": [
  {
   "cell_type": "code",
   "execution_count": 16,
   "id": "1790af5e",
   "metadata": {},
   "outputs": [],
   "source": [
    "import pandas as pd\n",
    "import numpy as np\n",
    "import matplotlib.pyplot as plt\n",
    "import os\n",
    "import time\n",
    "\n",
    "np.set_printoptions(suppress=True)\n",
    "path = '/Users/tae/Desktop/Project/Dataset/normalize/Normalize6_avg.xlsx'\n",
    "size_feature = 6\n",
    "size_row = 4\n",
    "sizerespose = 3"
   ]
  },
  {
   "cell_type": "code",
   "execution_count": 17,
   "id": "6b4fd2ae",
   "metadata": {},
   "outputs": [],
   "source": [
    "def n_fold():\n",
    "    \n",
    "#     print('Function : n_fold ✅')\n",
    "    data = pd.read_excel(path)\n",
    "    print(data)\n",
    "\n",
    "    \n",
    "    dc1 = data[data['class']== 1]\n",
    "    dc2 = data[data['class']== 2]\n",
    "    dc3 = data[data['class']== 3]\n",
    "    dc4 = data[data['class']== 4]\n",
    "\n",
    "    a1 = len(dc1) // 10-1\n",
    "    a2 = len(dc2) // 10-1\n",
    "    a3 = len(dc3) // 10-1\n",
    "    a4 = len(dc4) // 10-1\n",
    "\n",
    "        \n",
    "\n",
    "    train = np.empty(10 , dtype='object')\n",
    "    test = np.empty(10 , dtype='object')\n",
    "\n",
    "    for cj in range(1,11):\n",
    "        \n",
    "        if cj == 10:\n",
    "            \n",
    "            stdc1 = (cj-1) * (a1+1)\n",
    "            ftdc1 = len(dc1)\n",
    "            \n",
    "            stdc2 = (cj-1) * (a2+1)\n",
    "            ftdc2 = len(dc2)\n",
    "            \n",
    "            stdc3 = (cj-1) * (a3+1);\n",
    "            ftdc3 = len(dc3)\n",
    "            \n",
    "            stdc4= (cj-1) * (a4+1);\n",
    "            ftdc4 = len(dc4)\n",
    "            \n",
    "        else:\n",
    "            stdc1 = (cj-1) * (a1+1)\n",
    "            ftdc1 = stdc1+a1\n",
    "            \n",
    "            stdc2 = (cj-1) * (a2+1)\n",
    "            ftdc2 = stdc2+a2\n",
    "            \n",
    "            stdc3 = (cj-1) * (a3+1)\n",
    "            ftdc3 = stdc3+a3\n",
    "            \n",
    "            stdc4 = (cj-1) * (a4+1)\n",
    "            ftdc4 = stdc4+a4\n",
    "            \n",
    "        Dtest1 = dc1[stdc1:ftdc1+1]\n",
    "        Dtest2 = dc2[stdc2:ftdc2+1]\n",
    "        Dtest3 = dc3[stdc3:ftdc3+1]\n",
    "        Dtest4 = dc4[stdc4:ftdc4+1]\n",
    "\n",
    "        Dtrain1 = dc1.drop(dc1.index[stdc1:ftdc1+1])\n",
    "        Dtrain2 = dc2.drop(dc2.index[stdc2:ftdc2+1])\n",
    "        Dtrain3 = dc3.drop(dc3.index[stdc3:ftdc3+1])\n",
    "        Dtrain4 = dc4.drop(dc4.index[stdc4:ftdc4+1])\n",
    "        \n",
    "        \n",
    "      \n",
    "\n",
    "\n",
    "        #test[cj-1] = pd.concat([Dtest4,Dtest3,Dtest2,Dtest1],ignore_index=True).to_numpy()\n",
    "        test[cj-1] = pd.concat([Dtest1,Dtest2 , Dtest3 , Dtest4],ignore_index=True).to_numpy()\n",
    "        train[cj-1] = pd.concat([Dtrain1, Dtrain2, Dtrain3 ,Dtest4], ignore_index=True).to_numpy()\n",
    "\n",
    "    return train , test\n",
    "    "
   ]
  },
  {
   "cell_type": "code",
   "execution_count": 18,
   "id": "553acede",
   "metadata": {},
   "outputs": [],
   "source": [
    "def initial_pop(size=10):\n",
    "    \n",
    "    c_whale = np.empty(size , dtype='object')\n",
    "    for i in range(size):\n",
    "        c_whale[i] = np.random.random(size=(size_row,size_feature))\n",
    "        \n",
    "    return c_whale\n"
   ]
  },
  {
   "cell_type": "code",
   "execution_count": 19,
   "id": "bf1b35f2",
   "metadata": {},
   "outputs": [],
   "source": [
    "def evaluate_fitness(population, data_train):\n",
    "\n",
    "    perform = []\n",
    "\n",
    "    for i in range(len(population)):\n",
    "        count = 0\n",
    "        wp = population[i]\n",
    "        \n",
    "        for j in range(len(data_train)):\n",
    "            clone_data = np.tile( data_train[j ,:size_feature] , (size_row,1))\n",
    "            dis = np.sqrt( np.sum((clone_data - wp)**2 , axis=1)  )\n",
    "            min_index = np.argmin(dis)\n",
    "            \n",
    "            if min_index+1 == data_train[j , size_feature : size_feature+1]:\n",
    "                count = count + 1\n",
    "        perform.append((i, count))\n",
    "                \n",
    "    score = np.array(perform)\n",
    "    gbest = population[np.argmax(score[:,1])]\n",
    "        \n",
    "    return  score , gbest\n",
    "    "
   ]
  },
  {
   "cell_type": "code",
   "execution_count": null,
   "id": "677c1aeb",
   "metadata": {},
   "outputs": [],
   "source": []
  },
  {
   "cell_type": "code",
   "execution_count": 20,
   "id": "d6385ca8",
   "metadata": {},
   "outputs": [],
   "source": [
    "def sort_value(score):\n",
    "  \n",
    "    index = np.argsort(score[:, 1])[::-1]\n",
    "    top_ten = score[index][:10]\n",
    "    max_fit = score[index][0, 1]\n",
    "    indexs = index[:10]\n",
    "\n",
    "    return  top_ten , max_fit , indexs"
   ]
  },
  {
   "cell_type": "code",
   "execution_count": 21,
   "id": "84bfe8bf",
   "metadata": {},
   "outputs": [],
   "source": [
    "def test_model(model , dataTest):\n",
    "    only_data = dataTest[:,:size_feature]\n",
    "    class_data = dataTest[:,size_feature:size_feature+1]\n",
    "    count = 0\n",
    "    \n",
    "    for i in range(len(dataTest)):\n",
    "        md = np.tile(only_data[i] , (size_row,1))\n",
    "        dis = np.sqrt( np.sum((model - md)**2 , axis=1) )\n",
    "\n",
    "        \n",
    "        if np.argmin(dis)+1 == class_data[i]:\n",
    "            count = count+1\n",
    "    \n",
    "    return count"
   ]
  },
  {
   "cell_type": "code",
   "execution_count": 26,
   "id": "df9b84c0",
   "metadata": {},
   "outputs": [],
   "source": [
    "def train_model(population , gbest , train):\n",
    "    \n",
    " \n",
    "    best_value = []\n",
    "    max_iter = 100\n",
    "    pxi = 0.5\n",
    "    imax_fit = 0\n",
    "    \n",
    "    repeat = 0\n",
    "    count = 0\n",
    "    threshold = 0.1 * max_iter\n",
    "#     threshold = 3\n",
    "    \n",
    "     \n",
    "    \n",
    "    for i in range(1 , max_iter+1): \n",
    "        \n",
    "        a =  2 + (-2 * (i/max_iter)) \n",
    "        r = np.random.random(size=(size_row, size_feature))\n",
    "        l = (a - 1) * r + 1\n",
    "        A = ((2 * a )* r) - a\n",
    "        C = 2 * r\n",
    "        \n",
    "        \n",
    "        if repeat >=900:\n",
    "                break\n",
    "        \n",
    "        new_population = np.empty(10, dtype='object')\n",
    "        \n",
    "        for j in range(len(population)):\n",
    "            w_pop = population[j]\n",
    "            \n",
    "            if np.random.random() < pxi:\n",
    "                \n",
    "                if np.abs(np.sum(A)) < 1:\n",
    "                    w_rand = np.random.choice(population)\n",
    "                    D_x = np.sqrt( np.sum( ( (C * w_rand) - w_pop)**2, axis=1  ) ).reshape(size_row,1)                    \n",
    "                    wpop = w_rand - (A * D_x)\n",
    "\n",
    "                    \n",
    "                else:\n",
    "                    D_x = np.sqrt( np.sum( ( (C * gbest) - w_pop)**2, axis=1  ) ).reshape(size_row,1)\n",
    "                    wpop = gbest - (A * D_x)\n",
    "                    \n",
    "            else:\n",
    "                w_dist = np.sqrt( np.sum((gbest - w_pop)**2, axis=1 )).reshape(size_row,1)\n",
    "                wpop = (w_dist * np.exp(l) * np.cos(l * 2 * np.pi)) + gbest \n",
    "                \n",
    "            new_population[j] = np.clip(wpop , a_min=0 , a_max=1) \n",
    "        \n",
    "         # Combined old+new\n",
    "        combined = np.concatenate((population, new_population))\n",
    "        score, gbest = evaluate_fitness(combined,train)\n",
    "        \n",
    "        #sort data (Fn)\n",
    "        top_ten , max_fit , new_index = sort_value(score)\n",
    "        \n",
    "        #replace population\n",
    "        population = combined[new_index]\n",
    "        best_value.append((i,  max_fit))\n",
    "        \n",
    "        if imax_fit == max_fit:\n",
    "            count = count + 1\n",
    "        else:\n",
    "            imax_fit = max_fit\n",
    "            count = 0\n",
    "           \n",
    "        \n",
    "        #Check Threshold \n",
    "        \n",
    "        if count > threshold  :\n",
    "            count = 0\n",
    "            repeat = repeat + 1\n",
    "           \n",
    "\n",
    "            for x in range(1,len(population)):\n",
    "                if x in {1,2,3}:\n",
    "                    newW = (0.1 * np.random.random(size=(size_row,size_feature))) - 0.05\n",
    "                    population[x] = population[0] + newW\n",
    "                else:\n",
    "                    population[x] = np.random.random(size=(size_row,size_feature))\n",
    "        \n",
    "                    \n",
    "                    \n",
    "                    \n",
    "\n",
    "                    \n",
    "    index , value = zip(*best_value)\n",
    "    plt.figure(figsize=(18,6))\n",
    "    plt.plot(index,value, marker='o', markersize=2, linewidth=0.8)\n",
    "    plt.show()\n",
    "\n",
    "      \n",
    "        \n",
    "    return population[-1] , best_value[-1][0], best_value[-1][1] , max_iter , best_value"
   ]
  },
  {
   "cell_type": "code",
   "execution_count": 12,
   "id": "7df0aa09",
   "metadata": {},
   "outputs": [
    {
     "data": {
      "text/plain": [
       "60"
      ]
     },
     "execution_count": 12,
     "metadata": {},
     "output_type": "execute_result"
    }
   ],
   "source": []
  },
  {
   "cell_type": "code",
   "execution_count": 27,
   "id": "17bfd3f0-d3c1-4d96-b59e-5d45f4169e8b",
   "metadata": {},
   "outputs": [],
   "source": [
    "def execute(train,test):\n",
    "    \n",
    "    performance = []\n",
    "    iterValue = []\n",
    "    graph = []\n",
    "        \n",
    "    for i in range(len(test)):\n",
    "\n",
    "        test_size = len(test[i])\n",
    "        # 1. initial whale\n",
    "        population = initial_pop()\n",
    "        # 2.fitness\n",
    "        score,gbest = evaluate_fitness(population , train[i])\n",
    "        # 3.train\n",
    "        model, lastIter, lastValue, max_iter , best_value = train_model(population,gbest,train[i])\n",
    "        # 4.test\n",
    "        \n",
    "        score_model = test_model(model,test[i])\n",
    "        graph.append((best_value))\n",
    "        performance.append([test_size, score_model , np.round(score_model / test_size ,5)])\n",
    "        iterValue.append([len(train[i]),lastIter,lastValue])\n",
    "    \n",
    "    return  np.array(performance), np.array(iterValue) , graph\n"
   ]
  },
  {
   "cell_type": "code",
   "execution_count": 28,
   "id": "ff632255",
   "metadata": {},
   "outputs": [
    {
     "name": "stdout",
     "output_type": "stream",
     "text": [
      "            x1        x2        x3        x4        x5        x6  class\n",
      "0     0.609365  0.530146  0.373013  0.633097  0.624433  0.447552      1\n",
      "1     0.663063  0.502780  0.607898  0.610838  0.654355  0.694019      1\n",
      "2     0.643300  0.515310  0.446110  0.667592  0.500599  0.535364      1\n",
      "3     0.566713  0.505600  0.501322  0.576670  0.666412  0.556325      1\n",
      "4     0.551703  0.530857  0.492900  0.716726  0.735216  0.589239      1\n",
      "...        ...       ...       ...       ...       ...       ...    ...\n",
      "4057  0.431849  0.391650  0.537681  0.441482  0.504861  0.609230      4\n",
      "4058  0.245440  0.358346  0.551924  0.307443  0.513636  0.446452      4\n",
      "4059  0.455762  0.511177  0.504899  0.268802  0.350782  0.516088      4\n",
      "4060  0.373318  0.364169  0.645297  0.359496  0.499079  0.425776      4\n",
      "4061  0.308600  0.286592  0.353429  0.589564  0.547656  0.583493      4\n",
      "\n",
      "[4062 rows x 7 columns]\n"
     ]
    },
    {
     "data": {
      "image/png": "[encoded data removed]",
      "text/plain": [
       "<Figure size 1800x600 with 1 Axes>"
      ]
     },
     "metadata": {},
     "output_type": "display_data"
    },
    {
     "data": {
      "image/png": "[encoded data removed]",
      "text/plain": [
       "<Figure size 1800x600 with 1 Axes>"
      ]
     },
     "metadata": {},
     "output_type": "display_data"
    },
    {
     "data": {
      "image/png": "[encoded data removed]",
      "text/plain": [
       "<Figure size 1800x600 with 1 Axes>"
      ]
     },
     "metadata": {},
     "output_type": "display_data"
    }
   ],
   "source": [
    "train , test = n_fold()\n",
    "perform , value , graph = execute(train[:3] , test[:3])"
   ]
  },
  {
   "cell_type": "code",
   "execution_count": 29,
   "id": "6e188c04",
   "metadata": {},
   "outputs": [
    {
     "name": "stdout",
     "output_type": "stream",
     "text": [
      "score test:  [[405.      175.        0.4321 ]\n",
      " [405.      144.        0.35556]\n",
      " [405.      176.        0.43457]]\n",
      "score Train:  [[2795  100 1512]\n",
      " [2795  100 1417]\n",
      " [2795  100 1562]]\n"
     ]
    }
   ],
   "source": [
    "print('score test: ',perform)\n",
    "print('score Train: ', value)"
   ]
  },
  {
   "cell_type": "code",
   "execution_count": null,
   "id": "3ec5ac4d",
   "metadata": {},
   "outputs": [],
   "source": []
  }
 ],
 "metadata": {
  "kernelspec": {
   "display_name": "Python 3 (ipykernel)",
   "language": "python",
   "name": "python3"
  },
  "language_info": {
   "codemirror_mode": {
    "name": "ipython",
    "version": 3
   },
   "file_extension": ".py",
   "mimetype": "text/x-python",
   "name": "python",
   "nbconvert_exporter": "python",
   "pygments_lexer": "ipython3",
   "version": "3.11.5"
  }
 },
 "nbformat": 4,
 "nbformat_minor": 5
}
