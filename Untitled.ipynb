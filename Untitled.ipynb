{
 "cells": [
  {
   "cell_type": "code",
   "execution_count": 38,
   "id": "637ff6e2",
   "metadata": {},
   "outputs": [],
   "source": [
    "import os\n",
    "import glob\n",
    "import torch\n",
    "from PIL import Image\n",
    "from img2vec_pytorch import Img2Vec\n",
    "path = '/Users/tae/Desktop/Project/image/*'\n"
   ]
  },
  {
   "cell_type": "code",
   "execution_count": 31,
   "id": "db01a04f",
   "metadata": {},
   "outputs": [
    {
     "name": "stdout",
     "output_type": "stream",
     "text": [
      "2.2.1\n"
     ]
    }
   ],
   "source": [
    "print(torch.__version__)\n",
    "\n",
    "if torch.cuda.is_available():\n",
    "    DEFAULT_DEVICE = \"cuda\"\n",
    "elif torch.backends.mps.is_available():\n",
    "        DEFAULT_DEVICE = \"mps\"\n",
    "else:\n",
    "    DEFAULT_DEVICE = \"cpu\"\n",
    "        \n",
    "        \n"
   ]
  },
  {
   "cell_type": "code",
   "execution_count": null,
   "id": "f0eac953",
   "metadata": {},
   "outputs": [],
   "source": []
  },
  {
   "cell_type": "code",
   "execution_count": 72,
   "id": "54e779a6",
   "metadata": {},
   "outputs": [],
   "source": [
    "def read_file():\n",
    "    all_image = []\n",
    "    for i in sorted(glob.glob(path+'/*')):\n",
    "        all_image.append(i)\n",
    "                              \n",
    "                              \n",
    "        \n",
    "    return all_image"
   ]
  },
  {
   "cell_type": "code",
   "execution_count": 73,
   "id": "9fd4d9fe",
   "metadata": {},
   "outputs": [],
   "source": [
    "f = read_file()"
   ]
  },
  {
   "cell_type": "code",
   "execution_count": 98,
   "id": "a5037ebe",
   "metadata": {},
   "outputs": [],
   "source": [
    "# Feature Extract\n",
    "img2vec = Img2Vec()\n",
    "features = img2vec.get_vec(Image.open(i))\n"
   ]
  },
  {
   "cell_type": "code",
   "execution_count": 99,
   "id": "6af68e2d",
   "metadata": {},
   "outputs": [],
   "source": [
    "feature = []\n",
    "for i in f[:30]:\n",
    "    features = img2vec.get_vec(Image.open(i))\n",
    "    feature.append(features)"
   ]
  },
  {
   "cell_type": "code",
   "execution_count": 100,
   "id": "022507ad",
   "metadata": {},
   "outputs": [
    {
     "data": {
      "text/plain": [
       "(1536,)"
      ]
     },
     "execution_count": 100,
     "metadata": {},
     "output_type": "execute_result"
    }
   ],
   "source": [
    "feature[0].shape"
   ]
  }
 ],
 "metadata": {
  "kernelspec": {
   "display_name": "Python 3 (ipykernel)",
   "language": "python",
   "name": "python3"
  },
  "language_info": {
   "codemirror_mode": {
    "name": "ipython",
    "version": 3
   },
   "file_extension": ".py",
   "mimetype": "text/x-python",
   "name": "python",
   "nbconvert_exporter": "python",
   "pygments_lexer": "ipython3",
   "version": "3.11.5"
  }
 },
 "nbformat": 4,
 "nbformat_minor": 5
}
